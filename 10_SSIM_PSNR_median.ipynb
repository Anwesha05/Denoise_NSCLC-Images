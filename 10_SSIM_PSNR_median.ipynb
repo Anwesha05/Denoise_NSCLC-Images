{
  "cells": [
    {
      "cell_type": "code",
      "execution_count": null,
      "metadata": {
        "colab": {
          "base_uri": "https://localhost:8080/"
        },
        "id": "AnkON4liT792",
        "outputId": "ac77d670-e3a3-4f88-c143-bf30f5d6b8b6"
      },
      "outputs": [
        {
          "name": "stdout",
          "output_type": "stream",
          "text": [
            "\n",
            "========== SUMMARY ==========\n",
            "Total images processed: 25\n",
            "Mean SSIM:    87.65 %\n",
            "Mean PSNR:    25.52 dB\n"
          ]
        }
      ],
      "source": [
        "import os\n",
        "import numpy as np\n",
        "from skimage.io import imread\n",
        "from skimage.color import rgb2gray\n",
        "from skimage.metrics import structural_similarity as ssim\n",
        "from skimage.metrics import peak_signal_noise_ratio as psnr\n",
        "\n",
        "# Define folders\n",
        "ref_root = 'DATASET'  \n",
        "test_root = 'DATASET_gaussian'       \n",
        "\n",
        "# Storage\n",
        "ssim_scores = []\n",
        "psnr_scores = []\n",
        "\n",
        "# Walk through all subfolders in reference\n",
        "for dirpath, _, filenames in os.walk(ref_root):\n",
        "    filenames.sort()\n",
        "    for fname in filenames:\n",
        "        rel_path = os.path.relpath(os.path.join(dirpath, fname), ref_root)\n",
        "        ref_path = os.path.join(ref_root, rel_path)\n",
        "        test_path = os.path.join(test_root, rel_path)\n",
        "\n",
        "        if not os.path.exists(test_path):\n",
        "            continue\n",
        "\n",
        "        try:\n",
        "            ref_img = imread(ref_path)\n",
        "            test_img = imread(test_path)\n",
        "\n",
        "            if ref_img.shape != test_img.shape:\n",
        "                continue\n",
        "\n",
        "            # Convert to grayscale if RGB\n",
        "            if ref_img.ndim == 3 and ref_img.shape[2] == 3:\n",
        "                ref_img = rgb2gray(ref_img)\n",
        "                test_img = rgb2gray(test_img)\n",
        "                data_range = 1.0\n",
        "            else:\n",
        "                ref_img = ref_img.astype(np.float32)\n",
        "                test_img = test_img.astype(np.float32)\n",
        "                range_val = test_img.max() - test_img.min()\n",
        "                data_range = range_val if range_val > 0 else 1.0\n",
        "\n",
        "            # Compute SSIM (unitless)\n",
        "            ssim_val = ssim(ref_img, test_img, data_range=data_range)\n",
        "            # Convert SSIM to percentage\n",
        "            ssim_pct = ssim_val * 100.0\n",
        "\n",
        "            # Compute PSNR (dB)\n",
        "            psnr_val = psnr(ref_img, test_img, data_range=data_range)\n",
        "\n",
        "            # Store\n",
        "            ssim_scores.append(ssim_pct)\n",
        "            psnr_scores.append(psnr_val)\n",
        "\n",
        "        except Exception:\n",
        "            continue\n",
        "\n",
        "# Final results\n",
        "if ssim_scores:\n",
        "    mean_ssim_pct = np.mean(ssim_scores)\n",
        "    mean_psnr = np.mean(psnr_scores)\n",
        "\n",
        "    print(\"\\n========== SUMMARY ==========\")\n",
        "    print(f\"Total images processed: {len(ssim_scores)}\")\n",
        "    print(f\"Mean SSIM:    {mean_ssim_pct:.2f} %\")\n",
        "    print(f\"Mean PSNR:    {mean_psnr:.2f} dB\")\n",
        "else:\n",
        "    print(\"No valid image pairs found.\")\n"
      ]
    }
  ],
  "metadata": {
    "colab": {
      "provenance": []
    },
    "kernelspec": {
      "display_name": "Python 3",
      "name": "python3"
    },
    "language_info": {
      "name": "python"
    }
  },
  "nbformat": 4,
  "nbformat_minor": 0
}
